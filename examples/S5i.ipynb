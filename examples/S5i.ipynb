{
 "cells": [
  {
   "cell_type": "markdown",
   "metadata": {},
   "source": [
    "## S5i example notebook\n",
    "Example notebook of the S5i 4GHz RF generator module. For an explanation of how the module works, see the documentation page. This is necessary to understand the limitations and how settings effect performance (like phasenoise). \n",
    "\n",
    "To run this script, we need a D5a module and a controller module. This can be either the C1b/C2 combination or the C1. To acces the controller we need to import the SPI rack class. All communication with the SPI Rack will go through this object. Only one SPI_rack object can be active at a time on the PC. So before running another script, the connection in this one should be closed."
   ]
  },
  {
   "cell_type": "code",
   "execution_count": 1,
   "metadata": {},
   "outputs": [],
   "source": [
    "# Import SPI rack and S5i module\n",
    "from spirack import SPI_rack, S5i_module"
   ]
  },
  {
   "cell_type": "markdown",
   "metadata": {},
   "source": [
    "Open the SPI rack connection and unlock the controller. This is necessary after bootup of the controller module. If not unlocked, no communication with the modules can take place. The virtual COM port baud rate is irrelevant as it doesn't change the actual speed. Timeout can be changed, but 1 second is a good value."
   ]
  },
  {
   "cell_type": "code",
   "execution_count": 2,
   "metadata": {},
   "outputs": [],
   "source": [
    "COM_speed = 1e6 # Baud rate, doesn't matter much\n",
    "timeout = 1 # In seconds\n",
    "\n",
    "spi_rack = SPI_rack('COM4', COM_speed, timeout)\n",
    "spi_rack.unlock() # Unlock the controller to be able to send data"
   ]
  },
  {
   "cell_type": "markdown",
   "metadata": {},
   "source": [
    "Create a new S5i module object at the correct (set) module address using the SPI object. By default the frequency gets set to 100 MHz with an output power of 0dBm. We will overwrite this here to output 150 MHz at 5 dBm."
   ]
  },
  {
   "cell_type": "code",
   "execution_count": 4,
   "metadata": {},
   "outputs": [],
   "source": [
    "# Add the S5i module to the SPI rack on address 3\n",
    "S5i = S5i_module(spi_rack, 3, frequency=150e6, output_level=5.0)"
   ]
  },
  {
   "cell_type": "markdown",
   "metadata": {},
   "source": [
    "We can change the output power of the device from -14 dBm to 20 dBm using the `set_output_power` function."
   ]
  },
  {
   "cell_type": "code",
   "execution_count": null,
   "metadata": {},
   "outputs": [],
   "source": [
    "S5i.set_output_power(-5.0)"
   ]
  },
  {
   "cell_type": "markdown",
   "metadata": {},
   "source": [
    "As explained in the documentation, the stepsize affects the phase noise: the smaller the stepsize, the larger the phasenoise. Therefore we want to use the largest stepsize possible to achieve a certain frequency. To simplify this process, we can use the function `get_optimal_stepsize`. This returns the optimal setting (minimal phase noise) for a given frequency. We will use this result to set the stepsize before setting the new output frequency."
   ]
  },
  {
   "cell_type": "code",
   "execution_count": null,
   "metadata": {},
   "outputs": [],
   "source": [
    "frequency = 205e6 # The frequency we want to set\n",
    "\n",
    "stepsize = S5i.get_optimal_stepsize(frequency) # Get optimal stepsize setting\n",
    "S5i.set_stepsize(stepsize)\n",
    "S5i.set_frequency(frequency)"
   ]
  },
  {
   "cell_type": "markdown",
   "metadata": {},
   "source": [
    "When done with the measurement/script, it is recommended to close the SPI Rack connection. This will allow other measurement scripts to acces the device."
   ]
  },
  {
   "cell_type": "code",
   "execution_count": 6,
   "metadata": {
    "collapsed": true
   },
   "outputs": [],
   "source": [
    "# Close the SPI rack connection\n",
    "spi_rack.close()"
   ]
  },
  {
   "cell_type": "code",
   "execution_count": null,
   "metadata": {
    "collapsed": true
   },
   "outputs": [],
   "source": []
  }
 ],
 "metadata": {
  "kernelspec": {
   "display_name": "Python 3",
   "language": "python",
   "name": "python3"
  },
  "language_info": {
   "codemirror_mode": {
    "name": "ipython",
    "version": 3
   },
   "file_extension": ".py",
   "mimetype": "text/x-python",
   "name": "python",
   "nbconvert_exporter": "python",
   "pygments_lexer": "ipython3",
   "version": "3.6.3"
  }
 },
 "nbformat": 4,
 "nbformat_minor": 1
}
