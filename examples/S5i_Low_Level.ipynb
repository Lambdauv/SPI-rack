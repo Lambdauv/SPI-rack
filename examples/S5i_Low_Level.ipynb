{
 "cells": [
  {
   "cell_type": "markdown",
   "metadata": {},
   "source": [
    "## S5i example/demo notebook\n",
    "Demo/example of the S5i module "
   ]
  },
  {
   "cell_type": "code",
   "execution_count": 1,
   "metadata": {},
   "outputs": [],
   "source": [
    "# Import SPI rack and S5i module\n",
    "from spi_rack import SPI_rack\n",
    "from S5i.S5i_module import S5i_module\n",
    "\n",
    "import time"
   ]
  },
  {
   "cell_type": "code",
   "execution_count": 2,
   "metadata": {},
   "outputs": [],
   "source": [
    "# Open SPI rack, unlock and set the reference frequency to 10 MHz\n",
    "spi_rack = SPI_rack('COM18', 1000000, 1)\n",
    "spi_rack.unlock()\n",
    "\n",
    "spi_rack.set_ref_frequency(10)"
   ]
  },
  {
   "cell_type": "code",
   "execution_count": 4,
   "metadata": {},
   "outputs": [],
   "source": [
    "# Add the S5i module to the SPI rack on address 3\n",
    "S5i = S5i_module(spi_rack, 3)"
   ]
  },
  {
   "cell_type": "code",
   "execution_count": 6,
   "metadata": {},
   "outputs": [],
   "source": [
    "# Slowly sweep RF frequency to see effects on the phase\n",
    "for i in range(0,100):\n",
    "    S5i.set_frequency(100+i)\n",
    "    time.sleep(0.2)"
   ]
  },
  {
   "cell_type": "code",
   "execution_count": 6,
   "metadata": {
    "collapsed": true
   },
   "outputs": [],
   "source": [
    "# Close the SPI rack connection\n",
    "spi_rack.close()"
   ]
  },
  {
   "cell_type": "code",
   "execution_count": null,
   "metadata": {
    "collapsed": true
   },
   "outputs": [],
   "source": []
  }
 ],
 "metadata": {
  "kernelspec": {
   "display_name": "Python 3",
   "language": "python",
   "name": "python3"
  },
  "language_info": {
   "codemirror_mode": {
    "name": "ipython",
    "version": 3
   },
   "file_extension": ".py",
   "mimetype": "text/x-python",
   "name": "python",
   "nbconvert_exporter": "python",
   "pygments_lexer": "ipython3",
   "version": "3.6.3"
  }
 },
 "nbformat": 4,
 "nbformat_minor": 1
}
