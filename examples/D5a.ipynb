{
 "cells": [
  {
   "cell_type": "markdown",
   "metadata": {},
   "source": [
    "## D5a example notebook\n",
    "Example notebook of the D5a 16 channel, 18-bit DAC module. To use this, we need a D5a module and a controller module. This can be either the C1b/C2 combination or the C1.\n",
    "\n",
    "To use the D5a module, we also need to import the SPI rack class. All communication with the SPI Rack will go through this object. Only one SPI_rack object can be active at a time on the PC. So before running another script, the connection in this one should be closed."
   ]
  },
  {
   "cell_type": "code",
   "execution_count": 2,
   "metadata": {},
   "outputs": [],
   "source": [
    "# Import SPI rack and D5a module\n",
    "from spirack import SPI_rack, D5a_module"
   ]
  },
  {
   "cell_type": "markdown",
   "metadata": {},
   "source": [
    "Open the SPI rack connection and unlock the controller. This is necessary after bootup of the controller module. If not unlocked, no communication with the modules can take place. The virtual COM port baud rate is irrelevant as it doesn't change the actual speed. Timeout can be changed, but 1 second is a good value."
   ]
  },
  {
   "cell_type": "code",
   "execution_count": 4,
   "metadata": {},
   "outputs": [],
   "source": [
    "COM_speed = 1e6 # Baud rate, doesn't matter much\n",
    "timeout = 1 # In seconds\n",
    "\n",
    "spi_rack = SPI_rack('COM4', COM_speed, timeout)\n",
    "spi_rack.unlock() # Unlock the controller to be able to send data"
   ]
  },
  {
   "cell_type": "markdown",
   "metadata": {},
   "source": [
    "Create a new D5a module object at the correct (set) module address using the SPI object. By default the module resets the output voltages to 0 Volt. Before it does this, it will read back the current value. If this value is non-zero it will slowly ramp it to zero. If `reset_voltages = False` then the output will not be changed. "
   ]
  },
  {
   "cell_type": "code",
   "execution_count": 5,
   "metadata": {},
   "outputs": [],
   "source": [
    "D5a = D5a_module(spi_rack, module=2, reset_voltages=True)"
   ]
  },
  {
   "cell_type": "markdown",
   "metadata": {},
   "source": [
    "The output span of the DAC can be set in software to the following ranges:\n",
    "* 0 to 4 Volt: range_4V_uni\n",
    "* -4 to 4 Volt: range_4V_bi\n",
    "* -2 to 2 Volt: range_2V_bi\n",
    "\n",
    "By default it is set to 4V bipolar. Changing the span, determines the smallest step size possible. The DACs used are 18-bit, which gives a smallest step size of:\n",
    "\n",
    "$$\\text{LSB} = \\frac{\\text{Span}}{2^{18}}$$\n",
    "\n",
    "In the case of a $\\pm$2V span this gives a LSB of: ~15 $\\mu$V. You can get the current stepsize of a certain DAC with the `get_stepsize` function."
   ]
  },
  {
   "cell_type": "code",
   "execution_count": 14,
   "metadata": {},
   "outputs": [
    {
     "name": "stdout",
     "output_type": "stream",
     "text": [
      "Stepsize: 1.52587890625e-05 V\n"
     ]
    }
   ],
   "source": [
    "D5a.change_span_update(1, D5a.range_2V_bi)\n",
    "\n",
    "stepsize =  D5a.get_stepsize(2)\n",
    "print(\"Stepsize: \" + str(stepsize) + \" V\")"
   ]
  },
  {
   "cell_type": "markdown",
   "metadata": {},
   "source": [
    "The voltage can be set using the `set_voltage` function. If you want the output to be precisely equal to the set value, the voltage should be an integer multiple of the stepsize. Especially if sweeps are performed this is recommended. Otherwise the steps might nog be equidistant. Here we set the voltage of output 1 to 1.9 Volt. In the software the DAC count starts at 0, while on the front it starts at 1.\n",
    "\n",
    "Optionally the output voltage might also be changed by setting a digital bit value ranging from 0 to $2^{18}-1$ using `change_value_update`."
   ]
  },
  {
   "cell_type": "code",
   "execution_count": 10,
   "metadata": {},
   "outputs": [],
   "source": [
    "# Changing the output by voltage\n",
    "D5a.set_voltage(0, 1.9)"
   ]
  },
  {
   "cell_type": "code",
   "execution_count": 21,
   "metadata": {},
   "outputs": [],
   "source": [
    "# Changing the output by ditigal values\n",
    "D5a.change_value_update(1, 165535)"
   ]
  },
  {
   "cell_type": "markdown",
   "metadata": {},
   "source": [
    "When done with the measurement, it is recommended to close the SPI Rack connection. This will allow other measurement scripts to acces the device."
   ]
  },
  {
   "cell_type": "code",
   "execution_count": 22,
   "metadata": {},
   "outputs": [],
   "source": [
    "spi_rack.close()"
   ]
  },
  {
   "cell_type": "code",
   "execution_count": null,
   "metadata": {},
   "outputs": [],
   "source": []
  }
 ],
 "metadata": {
  "kernelspec": {
   "display_name": "Python 3",
   "language": "python",
   "name": "python3"
  },
  "language_info": {
   "codemirror_mode": {
    "name": "ipython",
    "version": 3
   },
   "file_extension": ".py",
   "mimetype": "text/x-python",
   "name": "python",
   "nbconvert_exporter": "python",
   "pygments_lexer": "ipython3",
   "version": "3.6.3"
  }
 },
 "nbformat": 4,
 "nbformat_minor": 1
}
