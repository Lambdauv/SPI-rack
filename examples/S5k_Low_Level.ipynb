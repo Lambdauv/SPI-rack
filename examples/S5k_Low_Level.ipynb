{
 "cells": [
  {
   "cell_type": "markdown",
   "metadata": {},
   "source": [
    "## S5k example/demo notebook\n",
    "Demo/example of the S5k module summing fast and slow ramps with individual amplitude control."
   ]
  },
  {
   "cell_type": "code",
   "execution_count": 1,
   "metadata": {},
   "outputs": [
    {
     "name": "stdout",
     "output_type": "stream",
     "text": [
      "SPI-rack Code Version: 0.1.14\n"
     ]
    }
   ],
   "source": [
    "from spirack import SPI_rack, S5k_module, version\n",
    "import numpy as np\n",
    "from scipy import signal\n",
    "import matplotlib.pyplot as plt\n",
    "\n",
    "%matplotlib notebook\n",
    "\n",
    "#assert version.__version__ >= '0.1.4', 'spirack version needs to be >= 0.1.4'\n",
    "print(\"SPI-rack Code Version: \" + version.__version__)"
   ]
  },
  {
   "cell_type": "markdown",
   "metadata": {},
   "source": [
    "Open SPI rack connection and unlock (necessary after bootup of the controller module)."
   ]
  },
  {
   "cell_type": "code",
   "execution_count": 2,
   "metadata": {},
   "outputs": [],
   "source": [
    "spi = SPI_rack(\"COM4\", 1000000, 1)\n",
    "spi.unlock()"
   ]
  },
  {
   "cell_type": "markdown",
   "metadata": {},
   "source": [
    "Create new S5k module object at correct address and set clock source to internal clock. The clock can be divided by all even numbers between 2-510.  \n",
    "\n",
    "We'll set DAC 1-8 at 50 MHz and DAC 9-16 at 500 KHz. This allows us to play the same waveform on both, with a factor 100 time difference. All these settings are base on a 200 MHz internal oscillator."
   ]
  },
  {
   "cell_type": "code",
   "execution_count": 86,
   "metadata": {},
   "outputs": [
    {
     "data": {
      "text/plain": [
       "[6.378955590820311, -6.46366552734375]"
      ]
     },
     "execution_count": 86,
     "metadata": {},
     "output_type": "execute_result"
    }
   ],
   "source": [
    "spi.get_battery()"
   ]
  },
  {
   "cell_type": "code",
   "execution_count": 169,
   "metadata": {},
   "outputs": [],
   "source": [
    "s5k = S5k_module(spi, 1)\n",
    "s5k.set_clock_source('internal')"
   ]
  },
  {
   "cell_type": "code",
   "execution_count": 170,
   "metadata": {},
   "outputs": [],
   "source": [
    "s5k.set_clock_division(1, 4)"
   ]
  },
  {
   "cell_type": "code",
   "execution_count": 156,
   "metadata": {},
   "outputs": [],
   "source": [
    "s5k.run_module(False)"
   ]
  },
  {
   "cell_type": "code",
   "execution_count": 6,
   "metadata": {},
   "outputs": [],
   "source": [
    "s5k.run_module(True)"
   ]
  },
  {
   "cell_type": "code",
   "execution_count": 171,
   "metadata": {},
   "outputs": [],
   "source": [
    "s5k.sync_clock()"
   ]
  },
  {
   "cell_type": "code",
   "execution_count": 172,
   "metadata": {},
   "outputs": [],
   "source": [
    "for DAC in range(1,9):\n",
    "    s5k.set_clock_division(DAC, 4)\n",
    "for DAC in range(9, 17):\n",
    "    s5k.set_clock_division(DAC, 400)"
   ]
  },
  {
   "cell_type": "markdown",
   "metadata": {},
   "source": [
    "Set all the DACs to AWG mode. This allows us to write to the internal 4096k samples RAM."
   ]
  },
  {
   "cell_type": "code",
   "execution_count": 173,
   "metadata": {},
   "outputs": [],
   "source": [
    "for DAC in range(1, 9):\n",
    "    s5k.set_waveform_mode(DAC, 'AWG')\n",
    "    s5k.set_digital_gain(DAC, 0.45)"
   ]
  },
  {
   "cell_type": "code",
   "execution_count": 174,
   "metadata": {},
   "outputs": [],
   "source": [
    "for DAC in range(1, 9):\n",
    "    s5k.set_digital_gain(DAC, 1)"
   ]
  },
  {
   "cell_type": "code",
   "execution_count": 175,
   "metadata": {},
   "outputs": [],
   "source": [
    "for DAC in range(9, 17):\n",
    "    s5k.set_digital_gain(DAC, 0)"
   ]
  },
  {
   "cell_type": "markdown",
   "metadata": {},
   "source": [
    "The ramp in both the slow and fast DAC's will be the same: 4000 samples long. To create the sawtooth we use the sawtooth function from the scipy signal library. The width argument allows us to define the width of the ramp as a fraction of the total waveform width: creates a ramp down."
   ]
  },
  {
   "cell_type": "code",
   "execution_count": 176,
   "metadata": {},
   "outputs": [
    {
     "data": {
      "image/png": "[encoded data removed]",
      "text/plain": [
       "<Figure size 432x288 with 1 Axes>"
      ]
     },
     "metadata": {
      "needs_background": "light"
     },
     "output_type": "display_data"
    }
   ],
   "source": [
    "wv_len = 4000\n",
    "max_val = 2047\n",
    "\n",
    "width = 0.5\n",
    "\n",
    "t = np.linspace(0, 1, 4000)\n",
    "sawtooth = signal.square(2*np.pi*t, width) * max_val\n",
    "sawtooth = sawtooth.astype(int)\n",
    "\n",
    "plt.figure()\n",
    "plt.plot(sawtooth)\n",
    "plt.title('Sawtooth RAM data')\n",
    "plt.xlabel('Samples')\n",
    "plt.ylabel('RAM values')\n",
    "plt.show()"
   ]
  },
  {
   "cell_type": "markdown",
   "metadata": {},
   "source": [
    "We now have to upload the waveform to all DAC's. It only needs to be uploaded once to each DAC chip (each chip contains for DACs with shared memory). We will then simply point all the DAC's in the chip to use the same block of RAM."
   ]
  },
  {
   "cell_type": "code",
   "execution_count": 177,
   "metadata": {},
   "outputs": [],
   "source": [
    "s5k.upload_waveform(1, sawtooth, 0, set_pattern_length = True)\n",
    "s5k.upload_waveform(5, sawtooth, 0, set_pattern_length = True)\n",
    "s5k.upload_waveform(9, sawtooth, 0, set_pattern_length = True)\n",
    "s5k.upload_waveform(13, sawtooth, 0, set_pattern_length = True)\n",
    "\n",
    "for DAC in range(1,17):\n",
    "    s5k.set_RAM_address(DAC, 0, len(sawtooth))"
   ]
  },
  {
   "cell_type": "markdown",
   "metadata": {},
   "source": [
    "We also have to set the length of the trigger period. It runs on the slowest clock used in the system, in this case at 500kHz. The period length is equal to the slow sawtooth"
   ]
  },
  {
   "cell_type": "code",
   "execution_count": 178,
   "metadata": {},
   "outputs": [],
   "source": [
    "s5k.set_pattern_length_trigger(len(sawtooth)-1)"
   ]
  },
  {
   "cell_type": "markdown",
   "metadata": {},
   "source": [
    "One issue we now run into is the trigger delay. Each chip has a delay of 15 clock cycles from trigger in, to start outputting. This is especially noticable in this case where half is running at 500 kHz and the other half at 50 MHz. To compensate for this (to get them to start at the same time), we delay the start of the fast running DACs.\n",
    "\n",
    "The delay is 15 clock cycles at 500 kHz. This gives a delay of 30 us. As the fast DACs are running at 50 MHz, we need to delay by 1500 clock cycles. We write this (minus 1) to the necessary DAC chips."
   ]
  },
  {
   "cell_type": "code",
   "execution_count": 165,
   "metadata": {},
   "outputs": [],
   "source": [
    "s5k.run_module(False)\n",
    "fast_period = 1/50e6\n",
    "slow_period = 1/500e3\n",
    "\n",
    "delay_necessary = 15*slow_period\n",
    "delay_cycles = round(delay_necessary/fast_period)\n",
    "delay_cycles = int(delay_cycles)\n",
    "\n",
    "s5k.write_AD9106(s5k.DAreg.PATTERN_DLY, delay_cycles-1, 3)\n",
    "s5k.write_AD9106(s5k.DAreg.PATTERN_DLY, delay_cycles-1, 1)\n",
    "s5k.run_module(True)"
   ]
  },
  {
   "cell_type": "markdown",
   "metadata": {},
   "source": [
    "Now we can start the module, either by running from software or giving a gate on the front of the module."
   ]
  },
  {
   "cell_type": "code",
   "execution_count": 179,
   "metadata": {},
   "outputs": [],
   "source": [
    "s5k.run_module(True)"
   ]
  },
  {
   "cell_type": "markdown",
   "metadata": {},
   "source": [
    "Set the gain of the slow ramp to 0.5x, and of the fast ramp to 0.1x. Gain can go to 2x, but both channels can max out the swing of the output at a gain of 1x."
   ]
  },
  {
   "cell_type": "code",
   "execution_count": 168,
   "metadata": {},
   "outputs": [],
   "source": [
    "for DAC in range(1, 9):\n",
    "    s5k.set_digital_gain(DAC, 1)\n",
    "for DAC in range(9, 17):\n",
    "    s5k.set_digital_gain(DAC, 0.0)"
   ]
  },
  {
   "cell_type": "code",
   "execution_count": 21,
   "metadata": {},
   "outputs": [],
   "source": [
    "s5k.set_digital_gain(4, -0.1)\n",
    "#s5k.set_digital_gain(12, -0.7)"
   ]
  },
  {
   "cell_type": "code",
   "execution_count": null,
   "metadata": {},
   "outputs": [],
   "source": []
  }
 ],
 "metadata": {
  "kernelspec": {
   "display_name": "Python 3",
   "language": "python",
   "name": "python3"
  },
  "language_info": {
   "codemirror_mode": {
    "name": "ipython",
    "version": 3
   },
   "file_extension": ".py",
   "mimetype": "text/x-python",
   "name": "python",
   "nbconvert_exporter": "python",
   "pygments_lexer": "ipython3",
   "version": "3.7.3"
  }
 },
 "nbformat": 4,
 "nbformat_minor": 2
}
