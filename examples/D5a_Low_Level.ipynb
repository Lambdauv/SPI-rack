{
 "cells": [
  {
   "cell_type": "markdown",
   "metadata": {},
   "source": [
    "## D5a example/demo notebook\n",
    "Demo/example notebook of the D5a 8-16 DAC module."
   ]
  },
  {
   "cell_type": "code",
   "execution_count": 1,
   "metadata": {
    "collapsed": true
   },
   "outputs": [],
   "source": [
    "# Import SPI rack and S5i module\n",
    "from spi_rack import SPI_rack\n",
    "from D5a.D5a_module import D5a_module\n",
    "\n",
    "import time"
   ]
  },
  {
   "cell_type": "markdown",
   "metadata": {},
   "source": [
    "Open SPI rack connection and unlock (necessary after bootup of the controller module). Virtual COM port baud rate is irrelevant as is doesn't change the actual speed. Timeout can be changed, but 1 second is a good value."
   ]
  },
  {
   "cell_type": "code",
   "execution_count": 2,
   "metadata": {},
   "outputs": [],
   "source": [
    "COM_speed = 1e6 #Baud rate, doesn't do much\n",
    "timeout = 1 #In seconds\n",
    "\n",
    "spi_rack = SPI_rack('COM18', COM_speed, timeout)\n",
    "spi_rack.unlock() #Unlock the controller to be able to send data"
   ]
  },
  {
   "cell_type": "markdown",
   "metadata": {},
   "source": [
    "Create a new D5a module object at the correct (set) module address. By default the module resets the output voltages to 0 Volt. Before it does this it reads back the current value and if this value is non-zero it will slowly ramp it to zero. If `reset_voltages = False` then the output will not be changed. \n",
    "\n",
    "By default the number of DACs is set to 16."
   ]
  },
  {
   "cell_type": "code",
   "execution_count": 28,
   "metadata": {},
   "outputs": [],
   "source": [
    "D5a = D5a_module(spi_rack, 3, reset_voltages=True, num_dacs=16)"
   ]
  },
  {
   "cell_type": "markdown",
   "metadata": {},
   "source": [
    "The output span of the DAC can be set in software to the following ranges:\n",
    "* 0 to 4 Volt: range_4V_uni\n",
    "* -4 to 4 Volt: range_4V_bi\n",
    "* -2 to 2 Volt: range_2V_bi\n",
    "\n",
    "Changing the span sets the smalles step size possible. The DACs used are 18-bit, which gives a smallest step size of:\n",
    "\n",
    "$$\\text{LSB} = \\frac{\\text{Span}}{2^{18}}$$\n",
    "\n",
    "In the case of a $\\pm$2V span this gives a LSB of: ~15 $\\mu$V. You can get the current stepsize of a certain DAC with the `get_stepsize` function."
   ]
  },
  {
   "cell_type": "code",
   "execution_count": 29,
   "metadata": {},
   "outputs": [],
   "source": [
    "D5a.change_span_update(2, D5a.range_2V_bi)\n",
    "\n",
    "stepsize =  D5a.get_stepsize(2)\n",
    "print stepsize"
   ]
  },
  {
   "cell_type": "markdown",
   "metadata": {},
   "source": [
    "The voltage can be set using the `set_voltage` function. If you want the output to be precisely equal to the set value, the voltage should be an integer multiple of the stepsize. Especially if sweeps are performed this is recommended. Otherwise the steps might nog be equidistant.\n",
    "\n",
    "Optionally the output voltage might also be changed by setting a digital bit value ranging from 0 to $2^{18}-1$ using `change_value_update`."
   ]
  },
  {
   "cell_type": "code",
   "execution_count": 33,
   "metadata": {},
   "outputs": [],
   "source": [
    "D5a.set_voltage(2, 2)"
   ]
  },
  {
   "cell_type": "code",
   "execution_count": 32,
   "metadata": {
    "collapsed": true
   },
   "outputs": [],
   "source": [
    "D5a.change_value_update(2, 131054)"
   ]
  },
  {
   "cell_type": "markdown",
   "metadata": {},
   "source": [
    "When done with everything, it's recommended to nicely close the connection with the SPI rack."
   ]
  },
  {
   "cell_type": "code",
   "execution_count": 34,
   "metadata": {
    "collapsed": true
   },
   "outputs": [],
   "source": [
    "spi_rack.close()"
   ]
  }
 ],
 "metadata": {
  "kernelspec": {
   "display_name": "Python 3",
   "language": "python",
   "name": "python3"
  },
  "language_info": {
   "codemirror_mode": {
    "name": "ipython",
    "version": 3
   },
   "file_extension": ".py",
   "mimetype": "text/x-python",
   "name": "python",
   "nbconvert_exporter": "python",
   "pygments_lexer": "ipython3",
   "version": "3.6.3"
  }
 },
 "nbformat": 4,
 "nbformat_minor": 1
}
