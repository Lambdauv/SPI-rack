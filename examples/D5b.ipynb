{
 "cells": [
  {
   "cell_type": "markdown",
   "metadata": {},
   "source": [
    "## D5b example notebook\n",
    "Example notebook of the D5b, 8 channel 18-bit module. The module contains the same DACs as in the 16 channel D5a module, but it also contains an ARM microcontroller. This allows for operations where exact timing is needed. \n",
    "\n",
    "At the moment of writing it supports setting the DACs in a normal DC mode, or allows them to toggle between two values with fixed and precise timing. This toggling happens after an external trigger (by another module for example). It can be used in conjuction with a B2 or D4b module to act as a lock-in system. The D5b sends out triggers at every DAC toggle, this allows the B2/D4a to sync the measurements to this change\n",
    "\n",
    "---\n",
    "#### SPI Rack setup\n",
    "To use the D5b module, we need to import both the `D5b_module` and the `SPI_rack` module from the `spirack` library. All the communication with the SPI Rack runs through the `SPI_rack` object which communicates through a virtual COM port. This COM port can only be open on one instance on the PC. Make sure you close the connection here before you can use it somewhere else.\n",
    "\n",
    "Import the `logging` library to be able to display the logging messages."
   ]
  },
  {
   "cell_type": "code",
   "execution_count": null,
   "metadata": {},
   "outputs": [],
   "source": [
    "# Import SPI rack and D5b module\n",
    "from spirack import SPI_rack, D5b_module\n",
    "import logging"
   ]
  },
  {
   "cell_type": "code",
   "execution_count": null,
   "metadata": {},
   "outputs": [],
   "source": [
    "logger = logging.getLogger(__name__)\n",
    "logging.basicConfig(level=logging.INFO)"
   ]
  },
  {
   "cell_type": "markdown",
   "metadata": {},
   "source": [
    "Open the SPI rack connection and unlock the controller. This is necessary after bootup of the controller module. If not unlocked, no communication with the modules can take place. The virtual COM port baud rate is irrelevant as it doesn't change the actual speed. Timeout can be changed, but 1 second is a good value."
   ]
  },
  {
   "cell_type": "code",
   "execution_count": null,
   "metadata": {},
   "outputs": [],
   "source": [
    "COM_port = 'COM4' # COM port of the SPI rack\n",
    "COM_speed = 1e6   # Baud rate, not of much importance\n",
    "timeout = 1       # Timeout value in seconds\n",
    "\n",
    "spi_rack = SPI_rack(COM_port, COM_speed, timeout)\n",
    "spi_rack.unlock() # Unlock the controller to be able to send data to the rack"
   ]
  },
  {
   "cell_type": "code",
   "execution_count": null,
   "metadata": {},
   "outputs": [],
   "source": [
    "spi_rack.unlock()"
   ]
  },
  {
   "cell_type": "markdown",
   "metadata": {},
   "source": [
    "Read back the version of the microcontroller software. This should return 1.6 or higher to be able to use the D5b properly. Als read the temperature and the battery voltages through the C1b, this way we verify that the connection with the SPI Rack is working."
   ]
  },
  {
   "cell_type": "code",
   "execution_count": null,
   "metadata": {},
   "outputs": [],
   "source": [
    "print('Version: ' + spi_rack.get_firmware_version())\n",
    "print('Temperature: {:.2f} C'.format(spi_rack.get_temperature()))\n",
    "battery_v = spi_rack.get_battery()\n",
    "print('Battery: {:.3f}V, {:.3f}V'.format(battery_v[0], battery_v[1]))"
   ]
  },
  {
   "cell_type": "markdown",
   "metadata": {},
   "source": [
    "Create a new D5b module object at the correct module address using the SPI object. By default the module resets the output voltages to 0 Volt. Before it does this, it will read back the current value. If this value is non-zero it will slowly ramp it to zero. If `reset_voltages = False` then the output will not be changed.\n",
    "\n",
    "To see that the we have a connection, we read back the firmware version."
   ]
  },
  {
   "cell_type": "code",
   "execution_count": null,
   "metadata": {},
   "outputs": [],
   "source": [
    "d5b = D5b_module(spi_rack, module=1, reset_voltages=True)\n",
    "print(\"Firmware version: {}\".format(d5b.get_firmware_version()))"
   ]
  },
  {
   "cell_type": "markdown",
   "metadata": {},
   "source": [
    "#### Configuring the D5b\n",
    "The D5b module can run from either a local (inside the module) clock or a user provided clock from the backplane. This backplane clock should be 10 MHz and either a square or a sine wave. If there are more modules with microcontrollers in the rack, and they need to run synchronously, it is recommended to use the backplane clock. For a single module it is fine to run it using the local clock.\n",
    "\n",
    "If the external clock is selected but not present, the user will get an ERROR to the logger and the microcontroller will keep running on the internal clock. **Never** turn off the external clock if the microcontroller is running on it. This will stop the module from functioning.\n",
    "\n",
    "In this example we will use the internal clock:"
   ]
  },
  {
   "cell_type": "code",
   "execution_count": null,
   "metadata": {},
   "outputs": [],
   "source": [
    "d5b.set_clock_source('internal')\n",
    "print(\"Clock source: {}\".format(d5b.get_clock_source()))"
   ]
  },
  {
   "cell_type": "markdown",
   "metadata": {},
   "source": [
    "The toggle time of the DACs is set in steps of 100 ns (the 10 MHz clock) with a minimum of 30 &mu;s. We need to input a value as a multiple of this 100 ns. The toggle amount should be an even number with a minimum of two."
   ]
  },
  {
   "cell_type": "code",
   "execution_count": null,
   "metadata": {},
   "outputs": [],
   "source": [
    "d5b.set_toggle_time(300)\n",
    "toggle_value = d5b.get_toggle_time()\n",
    "print('Toggle time: {} x 100 ns = {} s'.format(toggle_value, round(toggle_value*100e-9, 7)))\n",
    "\n",
    "d5b.set_toggle_amount(6)\n",
    "print('Toggle amount: {}'.format(d5b.get_toggle_amount()))"
   ]
  },
  {
   "cell_type": "markdown",
   "metadata": {},
   "source": [
    "The module will start toggling after it receives a trigger from the backplane (either directly controlled from the PC or from another module). If there are any filters and delays in the setup, we might want to wait with toggling the DAC before these are settled. This is what the hold-off time is for. It can be set in steps of 100 ns, with a minimum of 30 &mu;s. This time should be set in seconds."
   ]
  },
  {
   "cell_type": "code",
   "execution_count": null,
   "metadata": {},
   "outputs": [],
   "source": [
    "d5b.set_trigger_holdoff_time(30e-6)\n",
    "print('Holdoff time: {} s'.format(d5b.get_trigger_holdoff_time()))"
   ]
  },
  {
   "cell_type": "markdown",
   "metadata": {},
   "source": [
    "#### Running the D5b\n",
    "We will now set two DAC outputs to toggling mode and &pm;4V span. DAC 0 we will set to toggle &pm;2V around 0V and DAC1 to toggle between &pm;2V around 1V.\n",
    "\n",
    "For more details on the span, stepsize and voltages. See the documentation on the website and the D5a module example notebook."
   ]
  },
  {
   "cell_type": "code",
   "execution_count": null,
   "metadata": {},
   "outputs": [],
   "source": [
    "DAC = 0\n",
    "\n",
    "d5b.set_DAC_span(DAC, '4V_bi')\n",
    "print(\"Span DAC {}: {}\".format(DAC, d5b.get_DAC_span(DAC)))\n",
    "\n",
    "d5b.set_DAC_mode(DAC, 'toggle')\n",
    "print(\"DAC {} mode: {}\\n\".format(DAC, d5b.get_DAC_mode(DAC)))\n",
    "\n",
    "d5b.set_DAC_voltage(DAC, 0)\n",
    "d5b.set_DAC_neg_toggle_voltage(DAC, -2)\n",
    "d5b.set_DAC_pos_toggle_voltage(DAC, 2)\n",
    "values = d5b.get_DAC_voltages(DAC)\n",
    "print('Voltage: {:.3f} V\\nNegative Toggle: {:.3f} V\\nPositive Toggle: {:.3f} V'.format(values[0],values[1],values[2]))"
   ]
  },
  {
   "cell_type": "code",
   "execution_count": null,
   "metadata": {},
   "outputs": [],
   "source": [
    "DAC = 1\n",
    "\n",
    "d5b.set_DAC_span(DAC, '4V_bi')\n",
    "print(\"Span DAC {}: {}\".format(DAC, d5b.get_DAC_span(DAC)))\n",
    "\n",
    "d5b.set_DAC_mode(DAC, 'toggle')\n",
    "print(\"DAC {} mode: {}\\n\".format(DAC, d5b.get_DAC_mode(DAC)))\n",
    "\n",
    "d5b.set_DAC_voltage(DAC, 1)\n",
    "d5b.set_DAC_neg_toggle_voltage(DAC, -1)\n",
    "d5b.set_DAC_pos_toggle_voltage(DAC, 3)\n",
    "values = d5b.get_DAC_voltages(DAC)\n",
    "print('Voltage: {:.3f} V\\nNegative Toggle: {:.3f} V\\nPositive Toggle: {:.3f} V'.format(values[0],values[1],values[2]))"
   ]
  },
  {
   "cell_type": "markdown",
   "metadata": {},
   "source": [
    "Here we generate the trigger directly from the PC to demonstrate the usage."
   ]
  },
  {
   "cell_type": "code",
   "execution_count": null,
   "metadata": {},
   "outputs": [],
   "source": [
    "spi_rack.trigger_now()"
   ]
  },
  {
   "cell_type": "markdown",
   "metadata": {},
   "source": [
    "You should be able to see the following output on your oscilloscope (minus the two top traces):\n",
    "\n",
    "<img src=\"Images/Scope_Image.png\" alt=\"Scope Image\"\ttitle=\"Scope Image\" width=\"850\" />"
   ]
  },
  {
   "cell_type": "markdown",
   "metadata": {},
   "source": [
    "When done with this example, it is recommended to close the SPI Rack connection. This will allow other measurement scripts to access the device."
   ]
  },
  {
   "cell_type": "code",
   "execution_count": null,
   "metadata": {},
   "outputs": [],
   "source": [
    "spi_rack.close()"
   ]
  },
  {
   "cell_type": "code",
   "execution_count": null,
   "metadata": {},
   "outputs": [],
   "source": []
  }
 ],
 "metadata": {
  "kernelspec": {
   "display_name": "Python 3",
   "language": "python",
   "name": "python3"
  },
  "language_info": {
   "codemirror_mode": {
    "name": "ipython",
    "version": 3
   },
   "file_extension": ".py",
   "mimetype": "text/x-python",
   "name": "python",
   "nbconvert_exporter": "python",
   "pygments_lexer": "ipython3",
   "version": "3.7.3"
  }
 },
 "nbformat": 4,
 "nbformat_minor": 2
}
